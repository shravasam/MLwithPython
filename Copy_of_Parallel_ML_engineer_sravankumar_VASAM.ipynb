{
  "nbformat": 4,
  "nbformat_minor": 0,
  "metadata": {
    "colab": {
      "name": "Copy of Parallel_ML_engineer_sravankumar VASAM.ipynb",
      "provenance": [],
      "collapsed_sections": [],
      "include_colab_link": true
    },
    "jupytext": {
      "cell_metadata_filter": "-all",
      "main_language": "python",
      "notebook_metadata_filter": "-all"
    },
    "kernelspec": {
      "display_name": "Python 3",
      "name": "python3"
    }
  },
  "cells": [
    {
      "cell_type": "markdown",
      "metadata": {
        "id": "view-in-github",
        "colab_type": "text"
      },
      "source": [
        "<a href=\"https://colab.research.google.com/github/shravasam/MLwithPython/blob/main/Copy_of_Parallel_ML_engineer_sravankumar_VASAM.ipynb\" target=\"_parent\"><img src=\"https://colab.research.google.com/assets/colab-badge.svg\" alt=\"Open In Colab\"/></a>"
      ]
    },
    {
      "cell_type": "markdown",
      "metadata": {
        "id": "WZv4m00XnRCL"
      },
      "source": [
        ""
      ]
    },
    {
      "cell_type": "markdown",
      "metadata": {
        "id": "DDX4j_5USnJl"
      },
      "source": [
        "# Data generation and visualization\n",
        "\n",
        "Using NumPy, generate 50 2-dimensional data points. We want these points to\n",
        "be normally distributed, centered around (0, 0) and with a unit standard\n",
        "deviation.\n",
        "\n",
        "In scikit-learn parlance we say: n_samples = 50 and n_features = 2. The\n",
        "result should therefore be an array with shape (50, 2).\n",
        "\n",
        "Feel free to refer to the NumPy documentation:\n",
        "\n",
        "https://numpy.org/doc/stable/reference/random/generator.html#distributions"
      ]
    },
    {
      "cell_type": "code",
      "metadata": {
        "colab": {
          "base_uri": "https://localhost:8080/"
        },
        "id": "QeI8btdWSnJx",
        "outputId": "3e3f6bc5-e169-40a6-f325-5188bb564fa7"
      },
      "source": [
        "import numpy as np\n",
        "a = np.random.normal(0,1,(50,2))\n",
        "print(a)\n",
        "\n",
        "#plt.hist(a, 5)\n",
        "#plt.show()\n"
      ],
      "execution_count": null,
      "outputs": [
        {
          "output_type": "stream",
          "text": [
            "[[ 1.73772236e+00  1.29734714e-01]\n",
            " [ 5.25238391e-01  6.37083318e-01]\n",
            " [-6.50553131e-01  1.17689519e+00]\n",
            " [-1.88592840e-01  5.53217715e-02]\n",
            " [-9.54205359e-01 -1.11878740e+00]\n",
            " [-6.86956184e-02 -1.20992234e-01]\n",
            " [ 1.13447874e+00  1.10741519e+00]\n",
            " [-6.64298765e-01  8.02266886e-01]\n",
            " [ 5.18491353e-01  1.28655836e-01]\n",
            " [-5.98836158e-02 -2.64954655e-01]\n",
            " [-1.26682166e+00 -1.20203438e+00]\n",
            " [-6.59672136e-01  3.88623844e-01]\n",
            " [-3.73664121e-01 -3.08050743e-01]\n",
            " [-3.78133593e-01 -4.08970419e-01]\n",
            " [-9.85241024e-01 -3.92820805e-01]\n",
            " [-4.75765800e-01 -6.37086880e-01]\n",
            " [-2.16737462e+00  8.62395905e-01]\n",
            " [-3.95113885e-02  5.46484259e-01]\n",
            " [ 1.56569890e+00  8.96751317e-01]\n",
            " [-1.12397733e+00 -5.59567700e-01]\n",
            " [-7.56206352e-01 -7.07694398e-01]\n",
            " [ 1.76909714e+00 -1.46889966e+00]\n",
            " [ 1.25460422e+00 -8.04792079e-01]\n",
            " [-1.14792238e+00 -4.45914520e-01]\n",
            " [ 7.24709726e-02  1.38482856e+00]\n",
            " [ 1.01251713e-01  3.97861392e-01]\n",
            " [ 7.84359500e-01 -5.11169283e-01]\n",
            " [-4.38799871e-01 -5.86522583e-01]\n",
            " [ 1.35931239e+00 -5.57652107e-01]\n",
            " [-2.37049266e-01  4.26036285e-01]\n",
            " [-3.60299360e+00 -3.40535612e-01]\n",
            " [ 5.45300318e-01  1.01651828e+00]\n",
            " [ 1.01177796e+00  4.17681709e-01]\n",
            " [ 5.64549571e-04  4.20699837e-01]\n",
            " [-2.61982501e-01  3.56248396e-02]\n",
            " [-1.30410833e+00 -8.59404791e-01]\n",
            " [ 1.21352176e+00  1.30698192e+00]\n",
            " [-9.53254769e-01  6.19562996e-01]\n",
            " [-3.81413155e-01 -8.97568611e-01]\n",
            " [-1.72130457e-01 -4.88317731e-01]\n",
            " [-9.05608888e-01 -7.93191826e-03]\n",
            " [-1.90970530e-01  1.16946651e+00]\n",
            " [ 8.46672156e-01  2.21627428e-01]\n",
            " [ 2.95243195e-01  2.26204624e+00]\n",
            " [ 1.47644058e+00  4.53279359e-01]\n",
            " [-1.41614869e+00 -4.71100031e-01]\n",
            " [ 9.29314784e-01  2.24242049e-01]\n",
            " [-1.61454880e-01 -4.92047624e-01]\n",
            " [ 3.30374036e-02  6.89949267e-01]\n",
            " [-3.05450767e-01  1.28977212e+00]]\n"
          ],
          "name": "stdout"
        }
      ]
    },
    {
      "cell_type": "markdown",
      "metadata": {
        "id": "OTxEhqmqSnJz"
      },
      "source": [
        "Using Matplotlib, plot the data points that you generated on a 2d plane:"
      ]
    },
    {
      "cell_type": "code",
      "metadata": {
        "colab": {
          "base_uri": "https://localhost:8080/",
          "height": 265
        },
        "id": "yPKx4t8vSnJ0",
        "outputId": "ade58f0a-cfbf-4434-8562-d51a61d9e065"
      },
      "source": [
        "import matplotlib.pyplot as plt\n",
        "import numpy as np\n",
        "a = np.random.normal(0,1,(50,2))\n",
        "#print(a)\n",
        "\n",
        "plt.hist(a, 5)\n",
        "plt.show()\n"
      ],
      "execution_count": null,
      "outputs": [
        {
          "output_type": "display_data",
          "data": {
            "image/png": "[encoded data removed]",
            "text/plain": [
              "<Figure size 432x288 with 1 Axes>"
            ]
          },
          "metadata": {
            "tags": []
          }
        }
      ]
    },
    {
      "cell_type": "markdown",
      "metadata": {
        "id": "RkdDzXBuSnJ0"
      },
      "source": [
        "\n",
        "While the expected mean of the data points is (0, 0), the empirical mean will\n",
        "be slightly different. Compute the average point (centroid) of the set of\n",
        "data points that you generated (this should be an array with shape `(2,)`):"
      ]
    },
    {
      "cell_type": "code",
      "metadata": {
        "colab": {
          "base_uri": "https://localhost:8080/"
        },
        "id": "b-J09iODSnJ1",
        "outputId": "6b95e71d-897f-4939-9a18-0e1abed2847e"
      },
      "source": [
        "import matplotlib.pyplot as plt\n",
        "import numpy as np\n",
        "import pandas as pd\n",
        "\n",
        "a = np.random.normal(0,1,(50,2))\n",
        "# make it a dataframe\n",
        "df = pd.DataFrame(a)\n",
        "# clustering with 2 clusters\n",
        "from sklearn.cluster import KMeans\n",
        "km = KMeans(n_clusters=3)\n",
        "km.fit(df)\n",
        "preds = km.predict(df)\n",
        "# get centroids\n",
        "centroids = km.cluster_centers_\n",
        "#b = centroids.numpy\n",
        "#avg = numpy.mean(b)\n",
        "#avg = numpy.mean(centroids)\n",
        "print(centroids)"
      ],
      "execution_count": null,
      "outputs": [
        {
          "output_type": "stream",
          "text": [
            "[[ 1.24126697 -0.53873104]\n",
            " [-0.3002955   1.09118688]\n",
            " [-0.6214648  -0.77953326]]\n"
          ],
          "name": "stdout"
        }
      ]
    },
    {
      "cell_type": "markdown",
      "metadata": {
        "id": "LvcrWdzXSnJ2"
      },
      "source": [
        "\n",
        "Compute the feature-wise standard deviations of the dataset as well."
      ]
    },
    {
      "cell_type": "code",
      "metadata": {
        "colab": {
          "base_uri": "https://localhost:8080/"
        },
        "id": "5Id4EsmwSnJ3",
        "outputId": "ba1bccea-c5ab-4958-d90e-e07b7e630913"
      },
      "source": [
        "import matplotlib.pyplot as plt\n",
        "import numpy as np\n",
        "import pandas as pd\n",
        "\n",
        "a = np.random.normal(0,1,(50,2))\n",
        "X = np.std(a)\n",
        "print(X)"
      ],
      "execution_count": null,
      "outputs": [
        {
          "output_type": "stream",
          "text": [
            "0.9473849535785634\n"
          ],
          "name": "stdout"
        }
      ]
    },
    {
      "cell_type": "markdown",
      "metadata": {
        "id": "kjuIEVokSnJ3"
      },
      "source": [
        "On the same plot, show the generated dataset (as you previously did), and\n",
        "plot the computed centroid in another color."
      ]
    },
    {
      "cell_type": "code",
      "metadata": {
        "colab": {
          "base_uri": "https://localhost:8080/",
          "height": 282
        },
        "id": "mRD2q8XgSnJ4",
        "outputId": "3b74f0bc-aec6-42dc-fde4-e65ca6558d65"
      },
      "source": [
        "import matplotlib.pyplot as plt\n",
        "import numpy as np\n",
        "import pandas as pd\n",
        "\n",
        "a = np.random.normal(0,1,(50,2))\n",
        "# make it a dataframe\n",
        "df = pd.DataFrame(a)\n",
        "# clustering with 2 clusters\n",
        "from sklearn.cluster import KMeans\n",
        "km = KMeans(n_clusters=3)\n",
        "km.fit(df)\n",
        "preds = km.predict(df)\n",
        "# get centroids\n",
        "centroids = km.cluster_centers_\n",
        "#b = centroids.numpy\n",
        "#avg = numpy.mean(b)\n",
        "#avg = numpy.mean(centroids)\n",
        "#print(centroids)\n",
        "plt.scatter(df[0], df[1], c=preds)\n",
        "plt.scatter(centroids[:,0], centroids[:,1], c=range(centroids.shape[0]), s=1000)"
      ],
      "execution_count": null,
      "outputs": [
        {
          "output_type": "execute_result",
          "data": {
            "text/plain": [
              "<matplotlib.collections.PathCollection at 0x7ffb36e38a20>"
            ]
          },
          "metadata": {
            "tags": []
          },
          "execution_count": 8
        },
        {
          "output_type": "display_data",
          "data": {
            "image/png": "[encoded data removed]",
            "text/plain": [
              "<Figure size 432x288 with 1 Axes>"
            ]
          },
          "metadata": {
            "tags": []
          }
        }
      ]
    },
    {
      "cell_type": "markdown",
      "metadata": {
        "id": "sFWp0Ac8SnJ5"
      },
      "source": [
        "\n",
        "Generate 2 new sets of 50 data points, each of them stored in 2 different\n",
        "NumPy arrays. Both sets should follow a normal distribution and have a unit\n",
        "variance. However, the first set should be centered around (2, 4) and the\n",
        "second set should be centered around (4, -1)."
      ]
    },
    {
      "cell_type": "code",
      "metadata": {
        "id": "Ei0JrdzBSnJ6"
      },
      "source": [
        "import matplotlib.pyplot as plt\n",
        "import numpy as np\n",
        "import pandas as pd\n",
        "#firstSet = np.random.normal(2,4,(50))\n",
        "secondSet = np.random.normal(4,-1,(50))\n",
        "storeInNumArry_firstSet = np.array([firstSet]) \n",
        "sotreInNumArry_secondSet = np.array([secondSet])\n",
        "#thisset = set((a))\n",
        "#print(storeInNumArry_firstSet )\n",
        "print(sotreInNumArry_secondSet)"
      ],
      "execution_count": null,
      "outputs": []
    },
    {
      "cell_type": "markdown",
      "metadata": {
        "id": "pIosMDd2SnJ7"
      },
      "source": [
        "\n",
        "Plot the points of the 3 different datasets on the same figure in the cell\n",
        "below. Each subset should have a different color:"
      ]
    },
    {
      "cell_type": "code",
      "metadata": {
        "colab": {
          "base_uri": "https://localhost:8080/",
          "height": 294
        },
        "id": "BIRCCCJwSnJ7",
        "outputId": "2267f30a-96e4-4eab-a7eb-efaef69105ec"
      },
      "source": [
        "import matplotlib.pyplot as plt\n",
        "import numpy as np\n",
        "import pandas as pd\n",
        "x = np.linspace(0, 2 * np.pi, 400)\n",
        "y = np.sin(x ** 2)\n",
        "fig, ((ax1, ax2), (ax3, ax4)) = plt.subplots(2, 2)\n",
        "fig.suptitle('let Sharing x per column, y per row')\n",
        "ax1.plot(x, y)\n",
        "ax2.plot(x, y**2, 'tab:orange')\n",
        "ax3.plot(x, -y, 'tab:green')\n",
        "ax4.plot(x, -y**2, 'tab:red')\n",
        "\n",
        "for ax in fig.get_axes():\n",
        "    ax.label_outer()"
      ],
      "execution_count": null,
      "outputs": [
        {
          "output_type": "display_data",
          "data": {
            "image/png": "[encoded data removed]",
            "text/plain": [
              "<Figure size 432x288 with 4 Axes>"
            ]
          },
          "metadata": {
            "tags": []
          }
        }
      ]
    },
    {
      "cell_type": "markdown",
      "metadata": {
        "id": "QgEUXT0tSnJ7"
      },
      "source": [
        "\n",
        "Now, create a single NumPy array, named `X`, containing all the 150 data\n",
        "points (concatenation). In addition, create a NumPy array, named `labels`\n",
        "with 150 elements, containing an integer label to represent the membership of\n",
        "the data points to each subset: 0, 1 and 2."
      ]
    },
    {
      "cell_type": "code",
      "metadata": {
        "colab": {
          "base_uri": "https://localhost:8080/"
        },
        "id": "iNu2BVaMOWQq",
        "outputId": "8068f177-f0c2-42b8-ca79-fbf906aeaf5a"
      },
      "source": [
        "import matplotlib.pyplot as plt\n",
        "import numpy as np\n",
        "import pandas as pd\n",
        "#created single NumPy array with named X as asked.data generated in randomly, \n",
        "X = np.random.rand(150, 1)\n",
        "#in case data in arranged in order starting from 1 to 150. we can use below line \n",
        "#X = np.arange(start=1, stop=151, step=1)\n",
        "conc = np.vstack(X)\n",
        "#Created NumPy array named labels as asked\n",
        "labels = np.arange(start=1, stop=151, step=1)\n",
        "#print(labels)\n",
        "#newdf = pd.DataFrame(conc)\n",
        "\n",
        "columns = [f'_{num}' for num in range(1)]\n",
        "#created \n",
        "label = [f'label_{num}' for num in labels]\n",
        "\n",
        "df = pd.DataFrame(conc, columns=columns, index=label)\n",
        "print(df)\n"
      ],
      "execution_count": null,
      "outputs": [
        {
          "output_type": "stream",
          "text": [
            "                 _0\n",
            "label_1    0.026788\n",
            "label_2    0.353893\n",
            "label_3    0.001131\n",
            "label_4    0.072989\n",
            "label_5    0.937487\n",
            "...             ...\n",
            "label_146  0.739735\n",
            "label_147  0.025874\n",
            "label_148  0.976660\n",
            "label_149  0.695302\n",
            "label_150  0.753716\n",
            "\n",
            "[150 rows x 1 columns]\n"
          ],
          "name": "stdout"
        }
      ]
    },
    {
      "cell_type": "markdown",
      "metadata": {
        "id": "8dPCAb1nSnJ8"
      },
      "source": [
        "Plot the entire dataset `X`, using `labels` for the colors of the data points."
      ]
    },
    {
      "cell_type": "code",
      "metadata": {
        "id": "ELyvdxcBSnJ8",
        "colab": {
          "base_uri": "https://localhost:8080/",
          "height": 282
        },
        "outputId": "1b290fbd-f5a2-400c-de2f-52ef112e33a4"
      },
      "source": [
        "import matplotlib.pyplot as plt\n",
        "import itertools\n",
        "from random import randint\n",
        "import matplotlib.cm as cm\n",
        "import numpy as np\n",
        "import pandas as pd\n",
        "\n",
        "#created single NumPy array with named X as asked.data generated in randomly, \n",
        "X = np.random.rand(150, 1)\n",
        "#in case data in arranged in order starting from 1 to 150. we can use below line \n",
        "#X = np.arange(start=1, stop=151, step=1)\n",
        "conc = np.vstack(X)\n",
        "#Created NumPy array named labels as asked\n",
        "labels = np.arange(start=1, stop=151, step=1)\n",
        "#print(labels)\n",
        "#newdf = pd.DataFrame(conc)\n",
        "\n",
        "columns = [f'_{num}' for num in range(1)]\n",
        "#created \n",
        "label = [f'label_{num}' for num in labels]\n",
        "\n",
        "df = pd.DataFrame(conc, columns=columns, index=label)\n",
        "plt.scatter(X, labels)\n",
        "plt.show()\n",
        "print (len(X) == len(labels))\n",
        "#print(df)\n",
        "\n",
        "\n",
        "#colors = itertools.cycle([\"r\", \"b\", \"g\"])\n",
        "#for y in labels:\n",
        " #   plt.scatter(x, y, color=next(colors))\n",
        "\n",
        "#colors = cm.rainbow(np.linspace(0, 1, len(labels)))\n",
        "#for y, c in zip(labels, colors):\n",
        " # plt.scatter(x, y, color=c)"
      ],
      "execution_count": null,
      "outputs": [
        {
          "output_type": "display_data",
          "data": {
            "image/png": "[encoded data removed]",
            "text/plain": [
              "<Figure size 432x288 with 1 Axes>"
            ]
          },
          "metadata": {
            "tags": [],
            "needs_background": "light"
          }
        },
        {
          "output_type": "stream",
          "text": [
            "True\n"
          ],
          "name": "stdout"
        }
      ]
    },
    {
      "cell_type": "markdown",
      "metadata": {
        "id": "TuLLgLOSSnJ-"
      },
      "source": [
        "\n",
        "In order to easily reuse the data generation, create a function\n",
        "`generate_blobs` that given the number of samples (i.e. integer specifying\n",
        "the number of samples to generate in each blob) and the centers of each\n",
        "subset will return `X` and `labels`."
      ]
    },
    {
      "cell_type": "code",
      "metadata": {
        "id": "JLJJ80kDSnJ_",
        "colab": {
          "base_uri": "https://localhost:8080/",
          "height": 826
        },
        "outputId": "784c4674-1caf-4626-ea62-b0390eaa1723"
      },
      "source": [
        "def generate_blobs(n_samples_per_blob, centers):\n",
        "    \"\"\"Generate a dataset containing normally distributed blobs.\n",
        "\n",
        "    Parameters\n",
        "    ----------\n",
        "    n_samples : int\n",
        "        The number of samples in each blob.\n",
        "    centers : list of tuple (int, int)\n",
        "        A list a tuple containing the center for each blob\n",
        "\n",
        "    Returns\n",
        "    -------\n",
        "    X : ndarray of shape (n_samples, 2)\n",
        "        The dataset containing all samples.\n",
        "    labels : ndarray of shape (n_samples,)\n",
        "        The vector containing the labels of each sample.\n",
        "    \"\"\"\n",
        "\n",
        "#X, labels = make_blobs(n_samples=10, centers=3, n_features=2,\n",
        "#                    random_state=0)\n",
        "#print(X.shape)\n",
        "\n",
        "\n",
        "#X, labels = make_blobs(n_samples=[3, 3, 4], centers=None, n_features=2,\n",
        "#                     random_state=0)\n",
        "#print(X.shape)\n",
        "\n",
        "\n",
        "from sklearn.datasets.samples_generator import make_blobs\n",
        "from sklearn.neighbors import KNeighborsClassifier\n",
        "from sklearn.model_selection import train_test_split\n",
        "from sklearn.metrics import accuracy_score\n",
        "import numpy as np\n",
        "import matplotlib.pyplot as plt\n",
        "#def generate_blobs(n_samples_per_blob, centers):\n",
        "X = np.random.rand(150, 1)\n",
        "#in case data in arranged in order starting from 1 to 150. we can use below line \n",
        "#X = np.arange(start=1, stop=151, step=1)\n",
        "conc = np.vstack(X)\n",
        "#Created NumPy array named labels as asked\n",
        "labels = np.arange(start=1, stop=151, step=1) \n",
        "X, labels = make_blobs(n_features=2, centers=3)\n",
        "X_train, X_test, y_train, y_test = train_test_split(X, labels)\n",
        "model = KNeighborsClassifier()\n",
        "model.fit(X_train, y_train)\n",
        "y_pred = model.predict(X_test)\n",
        "acc = accuracy_score(y_test, y_pred) * 100\n",
        "print('accuracy: {}%'.format(acc))\n",
        "\n",
        "\n",
        "# plot 1\n",
        "X, labels = make_blobs(n_features=2, centers=1)\n",
        "plt.figure()\n",
        "plt.scatter(X[:, 0], X[:, 1], c=y)\n",
        "plt.savefig('centers_1.png')\n",
        "plt.title('centers = 1')\n",
        "\n",
        "# plot 2    \n",
        "X, lebels = make_blobs(n_features=2, centers=2)\n",
        "plt.figure()\n",
        "plt.scatter(X[:, 0], X[:, 1], c=y)\n",
        "plt.title('centers = 2')\n",
        "\n",
        "# plot 3\n",
        "X, labels = make_blobs(n_features=2, centers=3)\n",
        "plt.figure()\n",
        "plt.scatter(X[:, 0], X[:, 1], c=y)\n",
        "plt.title('centers = 3')\n",
        "\n",
        "plt.show()\n"
      ],
      "execution_count": null,
      "outputs": [
        {
          "output_type": "stream",
          "text": [
            "accuracy: 100.0%\n"
          ],
          "name": "stdout"
        },
        {
          "output_type": "display_data",
          "data": {
            "image/png": "[encoded data removed]",
            "text/plain": [
              "<Figure size 432x288 with 1 Axes>"
            ]
          },
          "metadata": {
            "tags": [],
            "needs_background": "light"
          }
        },
        {
          "output_type": "display_data",
          "data": {
            "image/png": "[encoded data removed]",
            "text/plain": [
              "<Figure size 432x288 with 1 Axes>"
            ]
          },
          "metadata": {
            "tags": [],
            "needs_background": "light"
          }
        },
        {
          "output_type": "display_data",
          "data": {
            "image/png": "[encoded data removed]",
            "text/plain": [
              "<Figure size 432x288 with 1 Axes>"
            ]
          },
          "metadata": {
            "tags": [],
            "needs_background": "light"
          }
        }
      ]
    },
    {
      "cell_type": "markdown",
      "metadata": {
        "id": "lzGPU39mSnJ_"
      },
      "source": [
        "## A minimal testing infrastructure\n",
        "\n",
        "It's good engineering practice to check the correctness of the code by writing automated tests.\n",
        "\n",
        "We define a function named `run_tests` that looks for `test_*` functions\n",
        "declared in the current session and run them. **Be aware that you should not\n",
        "modify this function at any point in the exercise.**"
      ]
    },
    {
      "cell_type": "code",
      "metadata": {
        "id": "9Xb8J-jDSnKA"
      },
      "source": [
        "# IMPORTANT: do not modify this cell!\n",
        "import traceback\n",
        "\n",
        "\n",
        "def run_tests(context):\n",
        "    \"\"\"Minimal alternative to pytest to run tests defined in a notebook\"\"\"\n",
        "    errors = []\n",
        "    for test_name, test_func in list(context.items()):\n",
        "        if not test_name.startswith(\"test_\"):\n",
        "            continue\n",
        "        try:\n",
        "            test_func()\n",
        "            print(test_name, \"PASS\")\n",
        "        except BaseException as e:\n",
        "            if isinstance(e, AssertionError):\n",
        "                print(test_name, \"FAIL\")\n",
        "                errors.append((test_name, e))\n",
        "            else:\n",
        "                print(test_name, \"ERROR\")\n",
        "                errors.append((test_name, e))\n",
        "    for test_name, e in errors:\n",
        "        print(\"\\n\" + \"#\" * 5, test_name)\n",
        "        formatted = traceback.format_exception(type(e), e, e.__traceback__)\n",
        "        print(\"\".join(formatted))"
      ],
      "execution_count": null,
      "outputs": []
    },
    {
      "cell_type": "markdown",
      "metadata": {
        "id": "_FAff0ntSnKB"
      },
      "source": [
        "Once this function is declared, we can create a set of `test_*` functions\n",
        "that we would like to be run each time that we call `run_tests()`."
      ]
    },
    {
      "cell_type": "code",
      "metadata": {
        "id": "j5ne0x-_SnKC"
      },
      "source": [
        "def test_succeeding_assertion():\n",
        "    assert 2 == 2"
      ],
      "execution_count": null,
      "outputs": []
    },
    {
      "cell_type": "code",
      "metadata": {
        "id": "NHfJ66tXSnKC"
      },
      "source": [
        "def test_failing_assertion():\n",
        "    assert 1 == 2"
      ],
      "execution_count": null,
      "outputs": []
    },
    {
      "cell_type": "markdown",
      "metadata": {
        "id": "7X--AX1uSnKC"
      },
      "source": [
        "Then to run all the test functions of the notebook by executing the following\n",
        "cell:"
      ]
    },
    {
      "cell_type": "code",
      "metadata": {
        "id": "p4V_rn9YSnKD",
        "colab": {
          "base_uri": "https://localhost:8080/",
          "height": 166
        },
        "outputId": "12db5f8f-c96f-4217-b358-7ae8f9cb2e47"
      },
      "source": [
        "run_tests(locals())"
      ],
      "execution_count": null,
      "outputs": [
        {
          "output_type": "error",
          "ename": "NameError",
          "evalue": "ignored",
          "traceback": [
            "\u001b[0;31m---------------------------------------------------------------------------\u001b[0m",
            "\u001b[0;31mNameError\u001b[0m                                 Traceback (most recent call last)",
            "\u001b[0;32m<ipython-input-1-101fff34a614>\u001b[0m in \u001b[0;36m<module>\u001b[0;34m()\u001b[0m\n\u001b[0;32m----> 1\u001b[0;31m \u001b[0mrun_tests\u001b[0m\u001b[0;34m(\u001b[0m\u001b[0mlocals\u001b[0m\u001b[0;34m(\u001b[0m\u001b[0;34m)\u001b[0m\u001b[0;34m)\u001b[0m\u001b[0;34m\u001b[0m\u001b[0;34m\u001b[0m\u001b[0m\n\u001b[0m",
            "\u001b[0;31mNameError\u001b[0m: name 'run_tests' is not defined"
          ]
        }
      ]
    },
    {
      "cell_type": "markdown",
      "metadata": {
        "id": "Ylz7JRsiSnKD"
      },
      "source": [
        "\n",
        "## Writing a test for your function\n",
        "\n",
        "Create a test that checks the validity of the dataset generated by the\n",
        "previous function. In this regard, the test should:\n",
        "\n",
        "- call the `generate_blobs` function to generate a dataset that returns `X`\n",
        "  and `labels` containing a large number of samples (at least 100,000 samples)\n",
        "  with three blobs centered in (0, 0), (2, 4), and (4, -1);\n",
        "- compute the means for each subset grouped by their labels;\n",
        "- check that the computed means are approximately equal to the center given\n",
        "  originally with some tolerance;\n",
        "- check that your test passes by running `run_tests(locals())`.\n",
        "\n",
        "Hint: feel free to use numpy.testing.assert_allclose in your test."
      ]
    },
    {
      "cell_type": "code",
      "metadata": {
        "id": "q7FGnofJSnKE"
      },
      "source": [
        "def test_generate_blobs():\n",
        "    # TODO: write me\n",
        "    pass"
      ],
      "execution_count": null,
      "outputs": []
    },
    {
      "cell_type": "code",
      "metadata": {
        "id": "g0afpCkWSnKE"
      },
      "source": [
        "run_tests(locals())"
      ],
      "execution_count": null,
      "outputs": []
    },
    {
      "cell_type": "markdown",
      "metadata": {
        "id": "7kWMDoTZSnKE"
      },
      "source": [
        "## K-means implementation\n",
        "\n",
        "In this section, you will implement the main step of the K-means algorithm.\n",
        "Let's start by generating a dataset containing 300 samples in total. You\n",
        "can use the following centers: (0, 0), (2, 4), and (4, -1)."
      ]
    },
    {
      "cell_type": "code",
      "metadata": {
        "id": "SJSmeynBSnKE"
      },
      "source": [
        "from sklearn.datasets.samples_generator import make_blobs\n",
        "from sklearn.neighbors import KNeighborsClassifier\n",
        "from sklearn.model_selection import train_test_split\n",
        "from sklearn.metrics import accuracy_score\n",
        "import numpy as np\n",
        "import matplotlib.pyplot as plt\n",
        "n_samples = 300\n",
        "centers = [(0, 0), (2, 4), (4, -1)]\n",
        "#in case data in arranged in order starting from 1 to 150. we can use below line \n",
        "#X = np.arange(start=1, stop=151, step=1)\n",
        "#conc = np.vstack(X)\n",
        "#Created NumPy array named labels as asked\n",
        "labels = np.arange(start=1, stop=151, step=1)\n",
        "def generate_blobs(n_samples, centers):\n",
        "  #X, labels = generate_blobs(n_samples, centers)\n",
        "    X = np.random.rand(300, 1)\n",
        "    centers = [(0, 0), (2, 4), (4, -1)]\n",
        "    return X, centers\n",
        "\n",
        "generate_blobs(n_samples, centers)\n",
        "\n",
        "\n",
        "\n"
      ],
      "execution_count": null,
      "outputs": []
    },
    {
      "cell_type": "markdown",
      "metadata": {
        "id": "eyEywoWpSnKE"
      },
      "source": [
        "Now, generate 3 random initial centers and store them in an array named `centroids`. You can randomly select data points from the original dataset.\n",
        "Then plot the entire dataset and the centroids."
      ]
    },
    {
      "cell_type": "code",
      "metadata": {
        "id": "K79T0UWvSnKE"
      },
      "source": [
        "# Load the Drive helper and mount\n",
        "from google.colab import drive\n",
        "import os\n",
        "from pydrive.auth import GoogleAuth\n",
        "from pydrive.drive import GoogleDrive\n",
        "from google.colab import auth\n",
        "from oauth2client.client import GoogleCredentials\n",
        "import numpy as np\n",
        "from random import randint as rd\n",
        "import random as rd\n",
        "import matplotlib.pyplot as plt\n",
        "\n",
        "\n",
        "import pandas as pd\n",
        "# This will prompt for authorization.\n",
        "drive.mount('/content/drive')\n",
        "\n",
        "local_download_path = os.path.expanduser('/content/sample_data/california_housing_train.csv')\n",
        "dataset=pd.read_csv(local_download_path)\n",
        "dataset.describe()\n",
        "#print(dataset.describe())\n",
        "X = dataset.iloc[:, [8]].values\n",
        "m=X.shape[0] #number of training examples\n",
        "n=X.shape[1] #number of features. Here n=1n_iter=100\n",
        "#print(m)\n",
        "#print(n)\n",
        "n_iter=100\n",
        "K=3 # number of clusters\n",
        "Centroids=np.array([]).reshape(n,0) \n",
        "for i in range(K):\n",
        "    rand=rd.randint(0,m-1)\n",
        "    Centroids=np.c_[Centroids,X[rand]]\n",
        "print(Centroids)\n",
        "#color=['red','blue','green']\n",
        "#labels=['cluster1','cluster2','cluster3']\n",
        "\n",
        "#plt.scatter(Centroids[0,:],Centroids[1,:],s=300,c='yellow',label='Centroids')\n",
        "EuclidianDistance=np.array([]).reshape(m,0)\n",
        "for k in range(K):\n",
        "    tempDist=np.sum((X-Centroids[:,k])**2,axis=1)\n",
        "    EuclidianDistance=np.c_[EuclidianDistance,tempDist]\n",
        "C=np.argmin(EuclidianDistance,axis=1)+1\n",
        "Y={}\n",
        "for k in range(K):\n",
        "    Y[k+1]=np.array([]).reshape(1,0)\n",
        "for i in range(m):\n",
        "    Y[C[i]]=np.c_[Y[C[i]],X[i]]\n",
        "     \n",
        "for k in range(K):\n",
        "    Y[k+1]=Y[k+1].T\n",
        "    \n",
        "for k in range(K):\n",
        "     Centroids[:,k]=np.mean(Y[k+1],axis=0)\n",
        "\n",
        "for i in range(n_iter):\n",
        "     #step 2.a\n",
        "      EuclidianDistance=np.array([]).reshape(m,0)\n",
        "      for k in range(K):\n",
        "          tempDist=np.sum((X-Centroids[:,k])**2,axis=1)\n",
        "          EuclidianDistance=np.c_[EuclidianDistance,tempDist]\n",
        "      C=np.argmin(EuclidianDistance,axis=1)+1\n",
        "     #step 2.b\n",
        "      Y={}\n",
        "      for k in range(K):\n",
        "          Y[k+1]=np.array([]).reshape(1,0)\n",
        "      for i in range(m):\n",
        "          Y[C[i]]=np.c_[Y[C[i]],X[i]]\n",
        "     \n",
        "      for k in range(K):\n",
        "          Y[k+1]=Y[k+1].T\n",
        "    \n",
        "      for k in range(K):\n",
        "          Centroids[:,k]=np.mean(Y[k+1],axis=0)\n",
        "      Output=Y\n",
        "color=['red','blue','green','cyan','magenta']\n",
        "labels=['cluster1','cluster2','cluster3','cluster4','cluster5']\n",
        "for k in range(K):\n",
        "    plt.scatter(Output[k][:,0],Output[k][:,1],c=color[k],label=labels[k])\n",
        "plt.scatter(Centroids[0,:],Centroids[1,:],s=300,c='yellow',label='Centroids')\n",
        "plt.xlabel('Income')\n",
        "plt.ylabel('Number of transactions')\n",
        "plt.legend()\n",
        "plt.show()\n",
        "\n",
        "\n",
        "\n"
      ],
      "execution_count": null,
      "outputs": []
    },
    {
      "cell_type": "markdown",
      "metadata": {
        "id": "UTvr1hVCSnKE"
      },
      "source": [
        "Now, compute the euclidean distance between each data point in the dataset and each centroid. Store all the distances in a single NumPy array named `distances`.\n",
        "\n",
        "Hint: feel free to use tools from ``scipy.spatial.distance``"
      ]
    },
    {
      "cell_type": "code",
      "metadata": {
        "id": "hTQLoNiCSnKF",
        "colab": {
          "base_uri": "https://localhost:8080/"
        },
        "outputId": "e51ae29a-0693-4705-9175-19d7f1fcd1d7"
      },
      "source": [
        "from scipy.spatial.distance import cdist\n",
        "# Load the Drive helper and mount\n",
        "from google.colab import drive\n",
        "import os\n",
        "from pydrive.auth import GoogleAuth\n",
        "from pydrive.drive import GoogleDrive\n",
        "from google.colab import auth\n",
        "from oauth2client.client import GoogleCredentials\n",
        "import numpy as np\n",
        "from random import randint as rd\n",
        "import random as rd\n",
        "import matplotlib.pyplot as plt\n",
        "\n",
        "\n",
        "import pandas as pd\n",
        "# This will prompt for authorization.\n",
        "drive.mount('/content/drive')\n",
        "\n",
        "local_download_path = os.path.expanduser('/content/sample_data/california_housing_train.csv')\n",
        "dataset=pd.read_csv(local_download_path)\n",
        "dataset.describe()\n",
        "#print(dataset.describe())\n",
        "X = dataset.iloc[:, [8]].values\n",
        "m=X.shape[0] #number of training examples\n",
        "n=X.shape[1] #number of features. Here n=1n_iter=100\n",
        "#print(m)\n",
        "#print(n)\n",
        "n_iter=100\n",
        "K=3 # number of clusters\n",
        "Centroids=np.array([]).reshape(n,0) \n",
        "for i in range(K):\n",
        "    rand=rd.randint(0,m-1)\n",
        "    Centroids=np.c_[Centroids,X[rand]]\n",
        "print(Centroids)\n",
        "#color=['red','blue','green']\n",
        "#labels=['cluster1','cluster2','cluster3']\n",
        "\n",
        "#plt.scatter(Centroids[0,:],Centroids[1,:],s=300,c='yellow',label='Centroids')\n",
        "EuclidianDistance=np.array([]).reshape(m,0)\n",
        "for k in range(K):\n",
        "    tempDist=np.sum((X-Centroids[:,k])**2,axis=1)\n",
        "    EuclidianDistance=np.c_[EuclidianDistance,tempDist]\n",
        "distances=np.argmin(EuclidianDistance,axis=1)+1\n",
        "print(distances)\n",
        "# TODO"
      ],
      "execution_count": null,
      "outputs": [
        {
          "output_type": "stream",
          "text": [
            "Drive already mounted at /content/drive; to attempt to forcibly remount, call drive.mount(\"/content/drive\", force_remount=True).\n",
            "[[500001. 163800.  60000.]]\n",
            "[3 3 3 ... 3 3 3]\n"
          ],
          "name": "stdout"
        }
      ]
    },
    {
      "cell_type": "markdown",
      "metadata": {
        "id": "gMZxpKkzSnKF"
      },
      "source": [
        "\n",
        "Find for each data point which centroid is the closest, and store this\n",
        "information in an array named `current_labelling`.\n",
        "\n",
        "Plot the dataset using `current_labelling` to set the color of the points\n",
        "to display the cluster assignment.\n",
        "\n",
        "Plot the centroids on the same figure."
      ]
    },
    {
      "cell_type": "code",
      "metadata": {
        "id": "sS8V6pXZSnKF",
        "colab": {
          "base_uri": "https://localhost:8080/",
          "height": 412
        },
        "outputId": "aa1f92c5-3d60-4893-d0ba-99f945329ed5"
      },
      "source": [
        "from scipy.spatial.distance import cdist\n",
        "from google.colab import drive\n",
        "import os\n",
        "from pydrive.auth import GoogleAuth\n",
        "from pydrive.drive import GoogleDrive\n",
        "from google.colab import auth\n",
        "from oauth2client.client import GoogleCredentials\n",
        "import numpy as np\n",
        "from random import randint as rd\n",
        "import random as rd\n",
        "import matplotlib.pyplot as plt\n",
        "from scipy.cluster.vq import vq\n",
        "import numpy as np\n",
        "from sklearn.cluster import KMeans\n",
        "from sklearn.metrics import pairwise_distances_argmin_min\n",
        "\n",
        "import pandas as pd\n",
        "# This will prompt for authorization.\n",
        "drive.mount('/content/drive')\n",
        "\n",
        "local_download_path = os.path.expanduser('/content/sample_data/california_housing_train.csv')\n",
        "dataset=pd.read_csv(local_download_path)\n",
        "dataset.describe()\n",
        "#print(dataset.describe())\n",
        "X = dataset.iloc[:, [8]].values\n",
        "m=X.shape[0] #number of training examples\n",
        "n=X.shape[1] #number of features. Here n=1n_iter=100\n",
        "#print(m)\n",
        "#print(n)\n",
        "n_iter=100\n",
        "K=3 # number of clusters\n",
        "Centroids=np.array([]).reshape(n,0) \n",
        "for i in range(K):\n",
        "  rand=rd.randint(0,m-1)\n",
        "  Centroids=np.c_[Centroids,X[rand]]\n",
        "print(Centroids)\n",
        "\n",
        "# assume the total number of data is 100\n",
        "#all_data = [ i for i in range(100) ]\n",
        "#tf_matrix = numpy.random.random((100, 100))\n",
        "\n",
        "# set your own number of clusters\n",
        "#num_clusters = 2\n",
        "\n",
        "m_km = KMeans(n_clusters=k)  \n",
        "m_km.fit(Centroids)\n",
        "m_clusters = m_km.labels_.tolist()\n",
        "\n",
        "centers = np.array(m_km.cluster_centers_)\n",
        "\n",
        "closest_data = []\n",
        "for i in range(k):\n",
        "    center_vec = centers[i]\n",
        "    data_idx_within_i_cluster = [ idx for idx, clu_num in enumerate(m_clusters) if clu_num == i ]\n",
        "\n",
        "    one_cluster_tf_matrix = np.zeros( (  len(data_idx_within_i_cluster) , centers.shape[1] ) )\n",
        "    for row_num, data_idx in enumerate(data_idx_within_i_cluster):\n",
        "        one_row = tf_matrix[data_idx]\n",
        "        one_cluster_tf_matrix[row_num] = one_row\n",
        "\n",
        "    closest, _ = pairwise_distances_argmin_min(center_vec, one_cluster_tf_matrix)\n",
        "    closest_idx_in_one_cluster_tf_matrix = closest[0]\n",
        "    current_labelling_row_num = data_idx_within_i_cluster[closest_idx_in_one_cluster_tf_matrix]\n",
        "    data_id = m[closest_data_row_num]\n",
        "\n",
        "    current_labelling.append(data_id)\n",
        "\n",
        "current_labelling = list(set(closest_data))\n",
        "\n",
        "assert len(closest_data) == num_clusters\n",
        "#color=['red','blue','green']\n",
        "#labels=['cluster1','cluster2','cluster3']\n",
        "\n",
        "#plt.scatter(Centroids[0,:],Centroids[1,:],s=300,c='yellow',label='Centroids')\n",
        "\n",
        "#closest, distances = vq(Centroids, X[rand])\n",
        "#print(closest, distances)\n",
        "#current_labelling "
      ],
      "execution_count": null,
      "outputs": [
        {
          "output_type": "stream",
          "text": [
            "Drive already mounted at /content/drive; to attempt to forcibly remount, call drive.mount(\"/content/drive\", force_remount=True).\n",
            "[[ 93300. 274800. 129200.]]\n"
          ],
          "name": "stdout"
        },
        {
          "output_type": "error",
          "ename": "ValueError",
          "evalue": "ignored",
          "traceback": [
            "\u001b[0;31m---------------------------------------------------------------------------\u001b[0m",
            "\u001b[0;31mValueError\u001b[0m                                Traceback (most recent call last)",
            "\u001b[0;32m<ipython-input-89-bea95058f2e0>\u001b[0m in \u001b[0;36m<module>\u001b[0;34m()\u001b[0m\n\u001b[1;32m     45\u001b[0m \u001b[0;34m\u001b[0m\u001b[0m\n\u001b[1;32m     46\u001b[0m \u001b[0mm_km\u001b[0m \u001b[0;34m=\u001b[0m \u001b[0mKMeans\u001b[0m\u001b[0;34m(\u001b[0m\u001b[0mn_clusters\u001b[0m\u001b[0;34m=\u001b[0m\u001b[0mk\u001b[0m\u001b[0;34m)\u001b[0m\u001b[0;34m\u001b[0m\u001b[0;34m\u001b[0m\u001b[0m\n\u001b[0;32m---> 47\u001b[0;31m \u001b[0mm_km\u001b[0m\u001b[0;34m.\u001b[0m\u001b[0mfit\u001b[0m\u001b[0;34m(\u001b[0m\u001b[0mCentroids\u001b[0m\u001b[0;34m)\u001b[0m\u001b[0;34m\u001b[0m\u001b[0;34m\u001b[0m\u001b[0m\n\u001b[0m\u001b[1;32m     48\u001b[0m \u001b[0mm_clusters\u001b[0m \u001b[0;34m=\u001b[0m \u001b[0mm_km\u001b[0m\u001b[0;34m.\u001b[0m\u001b[0mlabels_\u001b[0m\u001b[0;34m.\u001b[0m\u001b[0mtolist\u001b[0m\u001b[0;34m(\u001b[0m\u001b[0;34m)\u001b[0m\u001b[0;34m\u001b[0m\u001b[0;34m\u001b[0m\u001b[0m\n\u001b[1;32m     49\u001b[0m \u001b[0;34m\u001b[0m\u001b[0m\n",
            "\u001b[0;32m/usr/local/lib/python3.6/dist-packages/sklearn/cluster/_kmeans.py\u001b[0m in \u001b[0;36mfit\u001b[0;34m(self, X, y, sample_weight)\u001b[0m\n\u001b[1;32m    861\u001b[0m         \u001b[0;32mif\u001b[0m \u001b[0m_num_samples\u001b[0m\u001b[0;34m(\u001b[0m\u001b[0mX\u001b[0m\u001b[0;34m)\u001b[0m \u001b[0;34m<\u001b[0m \u001b[0mself\u001b[0m\u001b[0;34m.\u001b[0m\u001b[0mn_clusters\u001b[0m\u001b[0;34m:\u001b[0m\u001b[0;34m\u001b[0m\u001b[0;34m\u001b[0m\u001b[0m\n\u001b[1;32m    862\u001b[0m             raise ValueError(\"n_samples=%d should be >= n_clusters=%d\" % (\n\u001b[0;32m--> 863\u001b[0;31m                 _num_samples(X), self.n_clusters))\n\u001b[0m\u001b[1;32m    864\u001b[0m \u001b[0;34m\u001b[0m\u001b[0m\n\u001b[1;32m    865\u001b[0m         \u001b[0mtol\u001b[0m \u001b[0;34m=\u001b[0m \u001b[0m_tolerance\u001b[0m\u001b[0;34m(\u001b[0m\u001b[0mX\u001b[0m\u001b[0;34m,\u001b[0m \u001b[0mself\u001b[0m\u001b[0;34m.\u001b[0m\u001b[0mtol\u001b[0m\u001b[0;34m)\u001b[0m\u001b[0;34m\u001b[0m\u001b[0;34m\u001b[0m\u001b[0m\n",
            "\u001b[0;31mValueError\u001b[0m: n_samples=1 should be >= n_clusters=2"
          ]
        }
      ]
    },
    {
      "cell_type": "markdown",
      "metadata": {
        "id": "R3YvQBXoSnKG"
      },
      "source": [
        "\n",
        "Using this labelling, compute the average value of all the points in\n",
        "each subset of data points grouped by their label.\n",
        "\n",
        "The resulting \"means\" will serve as the updated centroids for the\n",
        "next iteration of this clustering algorithm.\n",
        "\n",
        "You can therefore reuse the `centroids` array."
      ]
    },
    {
      "cell_type": "code",
      "metadata": {
        "id": "gLSljHtFSnKG"
      },
      "source": [
        "from scipy.spatial.distance import cdist\n",
        "from google.colab import drive\n",
        "import os\n",
        "from pydrive.auth import GoogleAuth\n",
        "from pydrive.drive import GoogleDrive\n",
        "from google.colab import auth\n",
        "from oauth2client.client import GoogleCredentials\n",
        "import numpy as np\n",
        "from random import randint as rd\n",
        "import random as rd\n",
        "import matplotlib.pyplot as plt\n",
        "from scipy.cluster.vq import vq\n",
        "import numpy as np\n",
        "from sklearn.cluster import KMeans\n",
        "from sklearn.metrics import pairwise_distances_argmin_min\n",
        "\n",
        "import pandas as pd\n",
        "# This will prompt for authorization.\n",
        "drive.mount('/content/drive')\n",
        "\n",
        "local_download_path = os.path.expanduser('/content/sample_data/california_housing_train.csv')\n",
        "dataset=pd.read_csv(local_download_path)\n",
        "dataset.describe()\n",
        "#print(dataset.describe())\n",
        "X = dataset.iloc[:, [8]].values\n",
        "m=X.shape[0] #number of training examples\n",
        "n=X.shape[1] #number of features. Here n=1n_iter=100\n",
        "#print(m)\n",
        "#print(n)\n",
        "n_iter=100\n",
        "K=3 # number of clusters\n",
        "Centroids=np.array([]).reshape(n,0) \n",
        "for i in range(K):\n",
        "  rand=rd.randint(0,m-1)\n",
        "  Centroids=np.c_[Centroids,X[rand]]\n",
        "labelling = \n",
        "print(Centroids)\n",
        "\n",
        "# assume the total number of data is 100\n",
        "#all_data = [ i for i in range(100) ]\n",
        "#tf_matrix = numpy.random.random((100, 100))\n",
        "\n",
        "# set your own number of clusters\n",
        "#num_clusters = 2\n",
        "\n",
        "m_km = KMeans(n_clusters=k)  \n",
        "m_km.fit(Centroids)\n",
        "m_clusters = m_km.labels_.tolist()\n",
        "\n",
        "centers = np.array(m_km.cluster_centers_)\n",
        "closest_data = []\n",
        "for i in range(k):\n",
        "    center_vec = centers[i]\n",
        "    data_idx_within_i_cluster = [ idx for idx, clu_num in enumerate(m_clusters) if clu_num == i ]\n",
        "\n",
        "    one_cluster_tf_matrix = np.zeros( (  len(data_idx_within_i_cluster) , centers.shape[1] ) )\n",
        "    for row_num, data_idx in enumerate(data_idx_within_i_cluster):\n",
        "        one_row = tf_matrix[data_idx]\n",
        "        one_cluster_tf_matrix[row_num] = one_row\n",
        "\n",
        "    closest, _ = pairwise_distances_argmin_min(center_vec, one_cluster_tf_matrix)\n",
        "    closest_idx_in_one_cluster_tf_matrix = closest[0]\n",
        "    current_labelling_row_num = data_idx_within_i_cluster[closest_idx_in_one_cluster_tf_matrix]\n",
        "    data_id = m[closest_data_row_num]\n",
        "\n",
        "    current_labelling.append(data_id)\n",
        "\n",
        "current_labelling = list(set(closest_data))\n",
        "\n",
        "assert len(closest_data) == num_clusters\n",
        "#in progress\n",
        "kmeans = KMeans(n_clusters=5)\n",
        "kmeans.fit(X)\n",
        "\n",
        "## print(kmeans.cluster_centers_)\n",
        "\n",
        "plt.scatter(X[:,0],X[:,1], c=kmeans.labels_, cmap='rainbow')\n",
        "## plt.show()\n",
        "\n",
        "distances = kmeans.fit_transform(X)\n",
        "variance = 0\n",
        "i = 0\n",
        "for label in kmeans.labels_:\n",
        "    variance = variance + distances[i][label]\n",
        "    i = i + 1\n",
        "\n",
        "mean_distance = np.mean(distances)\n",
        "print(mean_distance)"
      ],
      "execution_count": null,
      "outputs": []
    },
    {
      "cell_type": "markdown",
      "metadata": {
        "id": "kiguLCujSnKG"
      },
      "source": [
        "\n",
        "Plot the entire dataset as well as the updated centroids."
      ]
    },
    {
      "cell_type": "code",
      "metadata": {
        "id": "zNWhvI4NSnKH"
      },
      "source": [
        "from scipy.spatial.distance import cdist\n",
        "from google.colab import drive\n",
        "import os\n",
        "from pydrive.auth import GoogleAuth\n",
        "from pydrive.drive import GoogleDrive\n",
        "from google.colab import auth\n",
        "from oauth2client.client import GoogleCredentials\n",
        "import numpy as np\n",
        "from random import randint as rd\n",
        "import random as rd\n",
        "import matplotlib.pyplot as plt\n",
        "from scipy.cluster.vq import vq\n",
        "import numpy as np\n",
        "from sklearn.cluster import KMeans\n",
        "from sklearn.metrics import pairwise_distances_argmin_min\n",
        "\n",
        "import pandas as pd\n",
        "# This will prompt for authorization.\n",
        "drive.mount('/content/drive')\n",
        "\n",
        "local_download_path = os.path.expanduser('/content/sample_data/california_housing_train.csv')\n",
        "dataset=pd.read_csv(local_download_path)\n",
        "dataset.describe()\n",
        "#print(dataset.describe())\n",
        "X = dataset.iloc[:, [8]].values\n",
        "m=X.shape[0] #number of training examples\n",
        "n=X.shape[1] #number of features. Here n=1n_iter=100\n",
        "#print(m)\n",
        "#print(n)\n",
        "n_iter=100\n",
        "K=3 # number of clusters\n",
        "Centroids=np.array([]).reshape(n,0) \n",
        "for i in range(K):\n",
        "  rand=rd.randint(0,m-1)\n",
        "  Centroids=np.c_[Centroids,X[rand]]\n",
        "\n",
        "print(Centroids)\n",
        "plt.scatter(X[:,0],X[:,1], label = 'True Position')\n",
        "\n",
        "kmeans = KMeans(n_clusters=3)\n",
        "kmeans.fit(X)\n",
        "\n",
        "## print(kmeans.cluster_centers_)\n",
        "\n",
        "plt.scatter(X[:,0],X[:,1], c=kmeans.labels_, cmap='rainbow')\n",
        "## plt.show()\n",
        "\n",
        "distances = kmeans.fit_transform(X)\n",
        "variance = 0\n",
        "i = 0\n",
        "for label in kmeans.labels_:\n",
        "    variance = variance + distances[i][label]\n",
        "    i = i + 1\n",
        "\n",
        "mean_distance = np.mean(distances)\n",
        "print(mean_distance)"
      ],
      "execution_count": null,
      "outputs": []
    },
    {
      "cell_type": "markdown",
      "metadata": {
        "id": "jET3xf7qoKwX"
      },
      "source": [
        "**(bonus)**: The K-means algorithm aims to minimize the sum of the squared euclidean distance between each data point and its closest centroid.\n",
        "\n",
        "Write some code to show that several iterations of the previous step applied to new random centroids can minimize this quantity."
      ]
    },
    {
      "cell_type": "code",
      "metadata": {
        "id": "LMznPkHjp8Q_"
      },
      "source": [
        "# TODO"
      ],
      "execution_count": null,
      "outputs": []
    },
    {
      "cell_type": "markdown",
      "metadata": {
        "id": "hWWkz8NJndGW"
      },
      "source": [
        "**Question**: This implementation of the K-means step uses ``cdist``. Can you explain in a few sentences some of the performance implications of this choice? We are particulary interested in the efficient usage of the computational resources (CPU and memory)."
      ]
    },
    {
      "cell_type": "markdown",
      "metadata": {
        "id": "csFSCH62mykK"
      },
      "source": [
        "PROPOSED PARALLEL K-MEANS FOR THE HYBRID CPU+FPGA PLATFORM Implement andaccelerate K-Means using the Intel Hhybrid MCP platform. K-Means code based on an OpenMPversion from CAP Bench which is a benchmark suitefor low-power manycore processors. The standard error was omitted from the plots presented in this work, due to their low values(less than 8.8% on CPU, and almost 0% on FPGA). To buildthe kernel, Intel SDK for OpenCL compiler(AOCL), which has Quartus along with it, version 16.0.2."
      ]
    },
    {
      "cell_type": "markdown",
      "metadata": {
        "id": "FE8dgnX7qATy"
      },
      "source": [
        "TODO: write your answer here.\n",
        "\n",
        "> Indented block\n",
        "\n"
      ]
    },
    {
      "cell_type": "markdown",
      "metadata": {
        "id": "IsJWagneSnKI"
      },
      "source": [
        "\n",
        "# Working with Cython\n",
        "## Cython typing\n",
        "\n",
        "Let's consider the performance of the computation of X + 2 * Y + 3 * Z\n",
        "where X, Y and Z are 2D arrays:"
      ]
    },
    {
      "cell_type": "code",
      "metadata": {
        "id": "4kxr7pklSnKI"
      },
      "source": [
        "# Let's generate 3 numpy arrays uniformly at random.\n",
        "X = np.random.random_sample((10000, 100))\n",
        "Y = np.random.random_sample((10000, 100))\n",
        "Z = np.random.random_sample((10000, 100))\n",
        "\n",
        "# and allocate some memory for the result of the operation X + 2 * Y + 3 * Z\n",
        "result = np.empty((10000, 100))"
      ],
      "execution_count": null,
      "outputs": []
    },
    {
      "cell_type": "code",
      "metadata": {
        "id": "fOEXsqbkSnKJ"
      },
      "source": [
        "# Here is a pure NumPy implementation of the linear combination of those\n",
        "# three arrays. NumPy is a compiled library that is efficient for array\n",
        "# operations so we expect this to be quite fast:\n",
        "%timeit result[:] = X + 2 * Y + 3 * Z"
      ],
      "execution_count": null,
      "outputs": []
    },
    {
      "cell_type": "markdown",
      "metadata": {
        "id": "TU1gOH1BbdW4"
      },
      "source": [
        "However we hope to be even faster by implementing a function specialized for\n",
        "this operation using a Cython function.\n",
        "\n",
        "Below is a first naive attempt."
      ]
    },
    {
      "cell_type": "code",
      "metadata": {
        "id": "U765ddmjSnKK"
      },
      "source": [
        "%load_ext Cython"
      ],
      "execution_count": null,
      "outputs": []
    },
    {
      "cell_type": "code",
      "metadata": {
        "id": "05uLcaZgSnKL"
      },
      "source": [
        "%%cython --annotate\n",
        "\n",
        "def my_array_operation(X, Y, Z, result):\n",
        "    m = X.shape[0]\n",
        "    n = X.shape[1]\n",
        "\n",
        "    for i in range(m):\n",
        "        for j in range(n):\n",
        "            result[i, j] = X[i, j] + 2 * Y[i, j] + 3 * Z[i, j]"
      ],
      "execution_count": null,
      "outputs": []
    },
    {
      "cell_type": "markdown",
      "metadata": {
        "id": "LA6XcxkhSnKL"
      },
      "source": [
        "\n",
        "The --annotate flag tells Cython to display an annotated version of the\n",
        "generated C code. A yellow line indicates that the C code generated by Cython\n",
        "involves an interaction with the Python object API. For performance reasons we\n",
        "want to avoid this kind of overhead inside the body of the Cython function as\n",
        "much as possible.\n",
        "\n",
        "The intensity of the yellow represents the intensity of such interactions.\n",
        "You can expand a line by clicking on the \"+\" on its left to get more insight\n",
        "on the nature of the Python interaction.\n",
        "\n",
        "With the help of the Cython documentation:  \n",
        "https://cython.readthedocs.io/en/latest/src/quickstart/cythonize.html,  \n",
        "https://cython.readthedocs.io/en/latest/src/tutorial/numpy.html,  \n",
        "edit the Cython function above to remove as much of the Python overhead as possible without changing the structure of the algorithm.\n",
        "\n",
        "Use the following cell to time the execution of the function to try see how\n",
        "removing this overhead can improve the execution speed:"
      ]
    },
    {
      "cell_type": "code",
      "metadata": {
        "id": "e7JqhRSASnKM"
      },
      "source": [
        "%timeit my_array_operation(X, Y, Z, result)"
      ],
      "execution_count": null,
      "outputs": []
    },
    {
      "cell_type": "markdown",
      "metadata": {
        "id": "BUwLp-2_SnKM"
      },
      "source": [
        "\n",
        "**Question**: give one or two reasons why the optimized Cython version can be\n",
        "faster to execute than the original NumPy version.\n",
        "\n",
        "Write your answer with a short paragraph with a few sentences at most.\n"
      ]
    },
    {
      "cell_type": "markdown",
      "metadata": {
        "id": "68Qnpi9Ocgpk"
      },
      "source": [
        "version 2 is essentially the same as version 1 since cython is unable to dig into the array access operator in order to optimise it. There are 2 reasons for this.First, there is a certain amount of overhead in each call to a numpy function, as compared to optimised C code. However this overhead will become less significant if each operation deals with large arrays. Second, there is the creation of intermediate arrays. This is clearer if you consider a more complex operation such as out[row, :] = A[row, :] + B[row, :]*C[row, :].Importantly, this problem becomes worse if you are dealing with large arrays. numexpr should give you similar performance to your version 3. It is much less powerful than cython,\n"
      ]
    }
  ]
}